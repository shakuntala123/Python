{
  "nbformat": 4,
  "nbformat_minor": 0,
  "metadata": {
    "colab": {
      "provenance": [],
      "authorship_tag": "ABX9TyOOFEySGE2dq5SNcdcanRsC",
      "include_colab_link": true
    },
    "kernelspec": {
      "name": "python3",
      "display_name": "Python 3"
    },
    "language_info": {
      "name": "python"
    }
  },
  "cells": [
    {
      "cell_type": "markdown",
      "metadata": {
        "id": "view-in-github",
        "colab_type": "text"
      },
      "source": [
        "<a href=\"https://colab.research.google.com/github/shakuntala123/Python/blob/main/SelectionSort.ipynb\" target=\"_parent\"><img src=\"https://colab.research.google.com/assets/colab-badge.svg\" alt=\"Open In Colab\"/></a>"
      ]
    },
    {
      "cell_type": "code",
      "execution_count": 9,
      "metadata": {
        "colab": {
          "base_uri": "https://localhost:8080/"
        },
        "id": "nuijKmZU3qfM",
        "outputId": "c84356a9-dece-4a83-e933-b40dbe7afe3a"
      },
      "outputs": [
        {
          "output_type": "stream",
          "name": "stdout",
          "text": [
            "Enter the number of test cases : \n",
            " 2\n",
            "Enter the number of element in the list :  4\n",
            "enter the element : 32 2 7 0 \n",
            "Sorted array: [0, 2, 7, 32]\n",
            "\n",
            "Enter the number of element in the list :  7\n",
            "enter the element : 23 0 1 33 98 45 3\n",
            "Sorted array: [0, 1, 3, 23, 33, 45, 98]\n",
            "\n"
          ]
        }
      ],
      "source": [
        "class Solution:\n",
        "  def __init__(self , arr):\n",
        "    self.arr = arr\n",
        "\n",
        "  def selection_sort(self,arr,n):\n",
        "    n = len(arr)\n",
        "\n",
        "    for i in range(n-1):\n",
        "        min_index = i\n",
        "\n",
        "        # Find the minimum element in the remaining unsorted portion\n",
        "        for j in range(i+1, n):\n",
        "            if arr[j] < arr[min_index]:\n",
        "                min_index = j\n",
        "\n",
        "        # Swap the minimum element with the current element\n",
        "        arr[i], arr[min_index] = arr[min_index], arr[i]\n",
        "\n",
        "    return arr\n",
        "\n",
        "  def display(self):\n",
        "        print(\"Sorted array:\", self.arr)\n",
        "        print(\"\")\n",
        "\n",
        "\n",
        "t = int(input(\"Enter the number of test cases : \\n \") )\n",
        "for _ in range(0 , t):\n",
        "    n = int(input(\"Enter the number of element in the list :  \"))\n",
        "    arr = list(map(int,input(\"enter the element : \").split()) )\n",
        "    selectionSort = Solution(arr)\n",
        "    selectionSort.selection_sort(arr,n)\n",
        "    selectionSort.display()"
      ]
    }
  ]
}
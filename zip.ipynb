{
  "nbformat": 4,
  "nbformat_minor": 0,
  "metadata": {
    "colab": {
      "provenance": [],
      "authorship_tag": "ABX9TyOz5MT4Tf87ET1VMNwi38hU",
      "include_colab_link": true
    },
    "kernelspec": {
      "name": "python3",
      "display_name": "Python 3"
    },
    "language_info": {
      "name": "python"
    }
  },
  "cells": [
    {
      "cell_type": "markdown",
      "metadata": {
        "id": "view-in-github",
        "colab_type": "text"
      },
      "source": [
        "<a href=\"https://colab.research.google.com/github/shakuntala123/Python/blob/main/zip.ipynb\" target=\"_parent\"><img src=\"https://colab.research.google.com/assets/colab-badge.svg\" alt=\"Open In Colab\"/></a>"
      ]
    },
    {
      "cell_type": "code",
      "source": [
        "''' The zip function is used to combine multiple iterables (such as lists, tuples, or other sequences) element-wise into a single iterable.\n",
        "The zip function takes one or more iterables as arguments and returns an iterator that\n",
        "generates tuples by combining elements from the input iterables.'''\n"
      ],
      "metadata": {
        "id": "IM6UjZ7mtDpA"
      },
      "execution_count": null,
      "outputs": []
    },
    {
      "cell_type": "code",
      "source": [
        "numbers = [1, 2, 3]\n",
        "letters = ['a', 'b', 'c']\n",
        "\n",
        "zipped = zip(numbers, letters)\n",
        "# The 'zipped' object is now an iterator containing pairs: (1, 'a'), (2, 'b'), (3, 'c')\n",
        "\n",
        "for number, letter in zipped:\n",
        "    print(number, letter)\n"
      ],
      "metadata": {
        "colab": {
          "base_uri": "https://localhost:8080/"
        },
        "id": "-Buzp7ijtHKZ",
        "outputId": "6a1390c0-dfa0-4aff-cbc2-fdd85a6f8412"
      },
      "execution_count": 1,
      "outputs": [
        {
          "output_type": "stream",
          "name": "stdout",
          "text": [
            "1 a\n",
            "2 b\n",
            "3 c\n"
          ]
        }
      ]
    },
    {
      "cell_type": "code",
      "source": [
        "''' use the zip function along with the * operator to unzip a zipped iterable back into separate lists'''\n",
        "pairs = [(1, 'a'), (2, 'b'), (3, 'c')]\n",
        "\n",
        "numbers, letters = zip(*pairs)\n",
        "# 'numbers' will be (1, 2, 3) and 'letters' will be ('a', 'b', 'c')\n",
        "print(numbers , letters)"
      ],
      "metadata": {
        "colab": {
          "base_uri": "https://localhost:8080/"
        },
        "id": "jhgd-oYZtoAS",
        "outputId": "68e8ed41-462d-432f-e33e-a5ecd4acafc8"
      },
      "execution_count": 5,
      "outputs": [
        {
          "output_type": "stream",
          "name": "stdout",
          "text": [
            "(1, 2, 3) ('a', 'b', 'c')\n"
          ]
        }
      ]
    }
  ]
}
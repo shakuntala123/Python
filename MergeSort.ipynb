{
  "nbformat": 4,
  "nbformat_minor": 0,
  "metadata": {
    "colab": {
      "provenance": [],
      "authorship_tag": "ABX9TyNWzbp2i2yAzR92esKkxHP+",
      "include_colab_link": true
    },
    "kernelspec": {
      "name": "python3",
      "display_name": "Python 3"
    },
    "language_info": {
      "name": "python"
    }
  },
  "cells": [
    {
      "cell_type": "markdown",
      "metadata": {
        "id": "view-in-github",
        "colab_type": "text"
      },
      "source": [
        "<a href=\"https://colab.research.google.com/github/shakuntala123/Python/blob/main/MergeSort.ipynb\" target=\"_parent\"><img src=\"https://colab.research.google.com/assets/colab-badge.svg\" alt=\"Open In Colab\"/></a>"
      ]
    },
    {
      "cell_type": "code",
      "source": [
        "import array\n",
        "class MergeSort:\n",
        "\n",
        "    @staticmethod\n",
        "    def sort(arr):\n",
        "        if len(arr) <= 1:\n",
        "            return arr\n",
        "\n",
        "        mid = len(arr) // 2\n",
        "        left_half = arr[:mid]\n",
        "        right_half = arr[mid:]\n",
        "        '''applying the divide-and-conquer steps to the subarrays until they consist of a single element, which is already considered sorted.'''\n",
        "        left_half = MergeSort.sort(left_half)\n",
        "        right_half = MergeSort.sort(right_half)\n",
        "\n",
        "        return MergeSort.merge(left_half, right_half)\n",
        "\n",
        "    @staticmethod\n",
        "    def merge(left, right):\n",
        "        merged = []\n",
        "        i = j = 0\n",
        "\n",
        "        while i < len(left) and j < len(right):\n",
        "            if left[i] <= right[j]:\n",
        "                merged.append(left[i])\n",
        "                i += 1\n",
        "            else:\n",
        "                merged.append(right[j])\n",
        "                j += 1\n",
        "\n",
        "        while i < len(left):\n",
        "            merged.append(left[i])\n",
        "            i += 1\n",
        "\n",
        "        while j < len(right):\n",
        "            merged.append(right[j])\n",
        "            j += 1\n",
        "\n",
        "        return merged\n",
        "\n",
        "    def display(self):\n",
        "        print(\"sorted list :\" , ls )\n",
        "\n",
        "\n",
        "\n",
        "t = int(input(\"enter the number of test cases\") )\n",
        "for _ in range(0 , t):\n",
        "    arr = list(map(int,input(\"enter the element\").split()) )\n",
        "    Sort = MergeSort()\n",
        "    ls = Sort.sort(arr)\n",
        "    Sort.display()\n"
      ],
      "metadata": {
        "colab": {
          "base_uri": "https://localhost:8080/"
        },
        "id": "9QfvHHNiIN3v",
        "outputId": "c1ff7429-6136-4604-9717-07c29300bada"
      },
      "execution_count": 47,
      "outputs": [
        {
          "output_type": "stream",
          "name": "stdout",
          "text": [
            "enter the number of test cases1\n",
            "enter the element34 2 90 76 2\n",
            "sorted list : [2, 2, 34, 76, 90]\n"
          ]
        }
      ]
    },
    {
      "cell_type": "code",
      "source": [
        "class MergeSort:\n",
        "    @staticmethod\n",
        "    def sort(arr):\n",
        "        if len(arr) <= 1:\n",
        "            return arr\n",
        "\n",
        "        mid = len(arr) // 2\n",
        "        left_half = arr[:mid]\n",
        "        right_half = arr[mid:]\n",
        "\n",
        "        left_half = MergeSort.sort(left_half)\n",
        "        right_half = MergeSort.sort(right_half)\n",
        "\n",
        "        return MergeSort.merge(left_half, right_half)\n",
        "\n",
        "    @staticmethod\n",
        "    def merge(left, right):\n",
        "        merged = []\n",
        "        i = j = 0\n",
        "\n",
        "        while i < len(left) and j < len(right):\n",
        "            if left[i] <= right[j]:\n",
        "                merged.append(left[i])\n",
        "                i += 1\n",
        "            else:\n",
        "                merged.append(right[j])\n",
        "                j += 1\n",
        "\n",
        "        while i < len(left):\n",
        "            merged.append(left[i])\n",
        "            i += 1\n",
        "\n",
        "        while j < len(right):\n",
        "            merged.append(right[j])\n",
        "            j += 1\n",
        "\n",
        "        return merged\n",
        "\n",
        "t = int(input(\"enter the number of test cases\") )\n",
        "for _ in range(0 , t):\n",
        "    # Get input from the user\n",
        "    user_input = input(\"Enter a list of numbers, separated by spaces: \")\n",
        "    user_list = list(map(int, user_input.split()))\n",
        "\n",
        "    # Create an instance of MergeSort class\n",
        "    merge_sort = MergeSort()\n",
        "\n",
        "    # Sort the list using merge sort\n",
        "    sorted_list = merge_sort.sort(user_list)\n",
        "\n",
        "    # Print the sorted list\n",
        "\n",
        "    print(\"Sorted List:\", sorted_list)\n"
      ],
      "metadata": {
        "colab": {
          "base_uri": "https://localhost:8080/"
        },
        "id": "U4eD1WpHPrik",
        "outputId": "71b2be75-2b94-47c8-fa6f-f9ce52c9425c"
      },
      "execution_count": 29,
      "outputs": [
        {
          "output_type": "stream",
          "name": "stdout",
          "text": [
            "enter the number of test cases1\n",
            "Enter a list of numbers, separated by spaces: 45 2 34 76 89 0 2\n",
            "Sorted List: [0, 2, 2, 34, 45, 76, 89]\n"
          ]
        }
      ]
    }
  ]
}
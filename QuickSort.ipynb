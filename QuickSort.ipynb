{
  "nbformat": 4,
  "nbformat_minor": 0,
  "metadata": {
    "colab": {
      "provenance": [],
      "authorship_tag": "ABX9TyP1CE1OZ5yN50e4RZoBW6xB",
      "include_colab_link": true
    },
    "kernelspec": {
      "name": "python3",
      "display_name": "Python 3"
    },
    "language_info": {
      "name": "python"
    }
  },
  "cells": [
    {
      "cell_type": "markdown",
      "metadata": {
        "id": "view-in-github",
        "colab_type": "text"
      },
      "source": [
        "<a href=\"https://colab.research.google.com/github/shakuntala123/Python/blob/main/QuickSort.ipynb\" target=\"_parent\"><img src=\"https://colab.research.google.com/assets/colab-badge.svg\" alt=\"Open In Colab\"/></a>"
      ]
    },
    {
      "cell_type": "code",
      "execution_count": 6,
      "metadata": {
        "colab": {
          "base_uri": "https://localhost:8080/"
        },
        "id": "kQHeP70rpaQJ",
        "outputId": "f37d43b8-b76e-4d62-968f-89befae20c3a"
      },
      "outputs": [
        {
          "output_type": "stream",
          "name": "stdout",
          "text": [
            "enter the number of test cases : 3\n",
            "enter the element : 23 45 78 12 0 9\n",
            "[0, 9, 12, 23, 45, 78]\n",
            "enter the element : 34 67 98 09 1 \n",
            "[1, 9, 34, 67, 98]\n",
            "enter the element : 34 0 12 67 23 4 1\n",
            "[0, 1, 4, 12, 23, 34, 67]\n"
          ]
        }
      ],
      "source": [
        "class QuickSort :\n",
        "\n",
        "  @staticmethod\n",
        "  def quick_sort(arr):\n",
        "     if len(arr) <= 1:\n",
        "         return arr\n",
        "     #selecting last element of list as pivot\n",
        "     pivot = arr[-1]\n",
        "     smaller = []\n",
        "     greater = []\n",
        "\n",
        "     for element in arr[:-1]:\n",
        "         if element <= pivot:\n",
        "            smaller.append(element)\n",
        "         else:\n",
        "             greater.append(element)\n",
        "\n",
        "     return  QuickSort.quick_sort(smaller) + [pivot] + QuickSort .quick_sort(greater)\n",
        "\n",
        "\n",
        "#Taking number of test case from user\n",
        "t = int(input(\"enter the number of test cases : \") )\n",
        "for _ in range(0 , t):\n",
        "    #Taking input from the user\n",
        "    my_list = list(map(int,input(\"enter the element : \").split()) )\n",
        "    sorted = QuickSort()\n",
        "    sorted_list = sorted .quick_sort(my_list)\n",
        "    print(sorted_list)\n",
        "\n"
      ]
    }
  ]
}
{
  "nbformat": 4,
  "nbformat_minor": 0,
  "metadata": {
    "colab": {
      "provenance": [],
      "authorship_tag": "ABX9TyP9L5zC2hdhgelMTIBMgePD",
      "include_colab_link": true
    },
    "kernelspec": {
      "name": "python3",
      "display_name": "Python 3"
    },
    "language_info": {
      "name": "python"
    }
  },
  "cells": [
    {
      "cell_type": "markdown",
      "metadata": {
        "id": "view-in-github",
        "colab_type": "text"
      },
      "source": [
        "<a href=\"https://colab.research.google.com/github/shakuntala123/Python/blob/main/insertionSort.ipynb\" target=\"_parent\"><img src=\"https://colab.research.google.com/assets/colab-badge.svg\" alt=\"Open In Colab\"/></a>"
      ]
    },
    {
      "cell_type": "code",
      "execution_count": 6,
      "metadata": {
        "colab": {
          "base_uri": "https://localhost:8080/"
        },
        "id": "JA2c_bW4U3Gb",
        "outputId": "1bda978d-563d-43d1-813b-f40ce3675714"
      },
      "outputs": [
        {
          "output_type": "stream",
          "name": "stdout",
          "text": [
            "enter the number of test cases1\n",
            "Enter the number of element in the list4\n",
            "enter the element2 1 8 9\n",
            "Sorted array: [1, 2, 8, 9]\n"
          ]
        }
      ],
      "source": [
        "#insertion sort\n",
        "\n",
        "class Solution:\n",
        "  def __init__(self , arr):\n",
        "    self.arr = arr\n",
        "\n",
        "  def InsertionSort(self , arr,n):\n",
        "    n = len(arr)\n",
        "    for i in range (1,n):\n",
        "        key = arr[i]\n",
        "        j = i-1\n",
        "\n",
        "        while j >= 0 and arr[j]>key:\n",
        "          arr[j+1] = arr[j]\n",
        "          j -=1\n",
        "\n",
        "        arr[j+1] = key\n",
        "\n",
        "  def display(self):\n",
        "        print(\"Sorted array:\", self.arr)\n",
        "\n",
        "\n",
        "t = int(input(\"enter the number of test cases\") )\n",
        "for _ in range(0 , t):\n",
        "    n = int(input(\"Enter the number of element in the list\"))\n",
        "    arr = list(map(int,input(\"enter the element\").split()) )\n",
        "    insertionSort = Solution(arr)\n",
        "    insertionSort.InsertionSort(arr,n)\n",
        "    insertionSort.display()\n",
        "\n"
      ]
    }
  ]
}
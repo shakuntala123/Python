{
  "nbformat": 4,
  "nbformat_minor": 0,
  "metadata": {
    "colab": {
      "provenance": [],
      "authorship_tag": "ABX9TyMBr5qPG+NdmS+8H9OERlB1",
      "include_colab_link": true
    },
    "kernelspec": {
      "name": "python3",
      "display_name": "Python 3"
    },
    "language_info": {
      "name": "python"
    }
  },
  "cells": [
    {
      "cell_type": "markdown",
      "metadata": {
        "id": "view-in-github",
        "colab_type": "text"
      },
      "source": [
        "<a href=\"https://colab.research.google.com/github/shakuntala123/Python/blob/main/To_Do_List.ipynb\" target=\"_parent\"><img src=\"https://colab.research.google.com/assets/colab-badge.svg\" alt=\"Open In Colab\"/></a>"
      ]
    },
    {
      "cell_type": "code",
      "execution_count": 7,
      "metadata": {
        "colab": {
          "base_uri": "https://localhost:8080/"
        },
        "id": "z1BBYiYcgI3S",
        "outputId": "6d43fe0e-7176-44cc-c00c-34140aebfa6a"
      },
      "outputs": [
        {
          "output_type": "stream",
          "name": "stdout",
          "text": [
            "enter the number of task to add : 4\n",
            "Enter task: Bring icecream\n",
            "Enter task: Go to temple\n",
            "Enter task: make prasad\n",
            "Enter task: distribute prasad\n",
            "Task added: distribute prasad\n",
            "Tasks:\n",
            "1. Bring icecream\n",
            "2. Go to temple\n",
            "3. make prasad\n",
            "4. distribute prasad\n",
            "Enter task to remove: Bring icecream\n",
            "Task removed: Bring icecream\n",
            "Tasks:\n",
            "1. Go to temple\n",
            "2. make prasad\n",
            "3. distribute prasad\n"
          ]
        }
      ],
      "source": [
        "tasks = []  # List to store tasks\n",
        "\n",
        "def add_task():\n",
        "    t = int(input(\"enter the number of task to add : \"))\n",
        "    for _ in range(t):\n",
        "        task = input(\"Enter task: \")\n",
        "        tasks.append(task)\n",
        "    print(\"Task added:\", task)\n",
        "\n",
        "def remove_task():\n",
        "    task = input(\"Enter task to remove: \")\n",
        "    if task in tasks:\n",
        "        tasks.remove(task)\n",
        "        print(\"Task removed:\", task)\n",
        "    else:\n",
        "        print(\"Task not found:\", task)\n",
        "\n",
        "def display_tasks():\n",
        "    if tasks:\n",
        "        print(\"Tasks:\")\n",
        "        for index, task in enumerate(tasks, start=1):\n",
        "            print(f\"{index}. {task}\")\n",
        "    else:\n",
        "        print(\"No tasks.\")\n",
        "\n",
        "#function call\n",
        "add_task()\n",
        "display_tasks()\n",
        "remove_task()\n",
        "display_tasks()\n"
      ]
    }
  ]
}